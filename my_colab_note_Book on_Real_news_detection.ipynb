{
  "nbformat": 4,
  "nbformat_minor": 0,
  "metadata": {
    "colab": {
      "provenance": [],
      "toc_visible": true,
      "authorship_tag": "ABX9TyOJ8WcYVroKg78nRDkTkUje",
      "include_colab_link": true
    },
    "kernelspec": {
      "name": "python3",
      "display_name": "Python 3"
    },
    "language_info": {
      "name": "python"
    }
  },
  "cells": [
    {
      "cell_type": "markdown",
      "metadata": {
        "id": "view-in-github",
        "colab_type": "text"
      },
      "source": [
        "<a href=\"https://colab.research.google.com/github/alecoeco123/0-Jypyther-note-book-python-practice./blob/main/my_colab_note_Book_Facke_and__Real_news_detection.ipynb\" target=\"_parent\"><img src=\"https://colab.research.google.com/assets/colab-badge.svg\" alt=\"Open In Colab\"/></a>"
      ]
    },
    {
      "cell_type": "markdown",
      "source": [
        "# how to develop Data Science Projects in Google colab\n",
        "\n",
        "```\n",
        "`# Colabouratory or Colab allows you to write and execute Python in your browser, with\n",
        "\n",
        "- Zero configration required\n",
        "- Free access to GPUs\n",
        "- Easy sharing `\n",
        "```\n",
        "\n",
        "\n"
      ],
      "metadata": {
        "id": "X4ATwDYuVWVL"
      }
    },
    {
      "cell_type": "markdown",
      "source": [],
      "metadata": {
        "id": "6IrHcOTcVRSq"
      }
    },
    {
      "cell_type": "markdown",
      "source": [
        "## Data science"
      ],
      "metadata": {
        "id": "JhOjAPaVWNu4"
      }
    },
    {
      "cell_type": "markdown",
      "source": [
        "### Machine Learning\n",
        "\n",
        "\n"
      ],
      "metadata": {
        "id": "3itXsYEoWVd8"
      }
    },
    {
      "cell_type": "code",
      "source": [],
      "metadata": {
        "id": "BwQ1O8TOWZK7"
      },
      "execution_count": null,
      "outputs": []
    },
    {
      "cell_type": "markdown",
      "source": [
        "### More resources"
      ],
      "metadata": {
        "id": "JqJdkOZPtn1F"
      }
    },
    {
      "cell_type": "code",
      "source": [],
      "metadata": {
        "id": "NGwrHaU4tzbY"
      },
      "execution_count": null,
      "outputs": []
    },
    {
      "cell_type": "markdown",
      "source": [
        "### Machine Learning Examples"
      ],
      "metadata": {
        "id": "heIKYtU4t1U8"
      }
    },
    {
      "cell_type": "code",
      "source": [],
      "metadata": {
        "id": "lyQoZQp4t9BG"
      },
      "execution_count": null,
      "outputs": []
    },
    {
      "cell_type": "code",
      "source": [],
      "metadata": {
        "id": "uaAkbgQgWcfG"
      },
      "execution_count": null,
      "outputs": []
    }
  ]
}
